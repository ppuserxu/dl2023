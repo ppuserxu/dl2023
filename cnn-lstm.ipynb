{
 "cells": [
  {
   "cell_type": "markdown",
   "id": "baf8280f",
   "metadata": {
    "papermill": {
     "duration": 0.007214,
     "end_time": "2023-08-09T07:42:20.489225",
     "exception": false,
     "start_time": "2023-08-09T07:42:20.482011",
     "status": "completed"
    },
    "tags": []
   },
   "source": [
    "<font size=4>Compare with LSTM model,CNN+LSTM is excellent.:https://www.kaggle.com/code/yunsuxiaozi/lstm-predict-mean-temp</font>\n"
   ]
  },
  {
   "cell_type": "code",
   "execution_count": 1,
   "id": "8106c08b",
   "metadata": {
    "_cell_guid": "b1076dfc-b9ad-4769-8c92-a6c4dae69d19",
    "_uuid": "8f2839f25d086af736a60e9eeb907d3b93b6e0e5",
    "execution": {
     "iopub.execute_input": "2023-08-09T07:42:20.504894Z",
     "iopub.status.busy": "2023-08-09T07:42:20.503787Z",
     "iopub.status.idle": "2023-08-09T07:42:24.435551Z",
     "shell.execute_reply": "2023-08-09T07:42:24.434217Z"
    },
    "papermill": {
     "duration": 3.942847,
     "end_time": "2023-08-09T07:42:24.438576",
     "exception": false,
     "start_time": "2023-08-09T07:42:20.495729",
     "status": "completed"
    },
    "tags": []
   },
   "outputs": [],
   "source": [
    "import pandas as pd#导入csv文件的库\n",
    "import numpy as np#进行矩阵运算的库\n",
    "import matplotlib.pyplot as plt#导入强大的绘图库\n",
    "import torch#一个深度学习的库Pytorch\n",
    "import torch.nn as nn#neural network,神经网络\n",
    "import torch.optim as optim#一个实现了各种优化算法的库\n",
    "import warnings#避免一些可以忽略的报错\n",
    "warnings.filterwarnings('ignore')#filterwarnings()方法是用于设置警告过滤器的方法，它可以控制警告信息的输出方式和级别."
   ]
  },
  {
   "cell_type": "code",
   "execution_count": 2,
   "id": "67c75ca1",
   "metadata": {
    "execution": {
     "iopub.execute_input": "2023-08-09T07:42:24.454769Z",
     "iopub.status.busy": "2023-08-09T07:42:24.453986Z",
     "iopub.status.idle": "2023-08-09T07:42:24.465731Z",
     "shell.execute_reply": "2023-08-09T07:42:24.464419Z"
    },
    "papermill": {
     "duration": 0.022178,
     "end_time": "2023-08-09T07:42:24.468290",
     "exception": false,
     "start_time": "2023-08-09T07:42:24.446112",
     "status": "completed"
    },
    "tags": []
   },
   "outputs": [],
   "source": [
    "#设置随机种子\n",
    "import random\n",
    "torch.backends.cudnn.deterministic = True#将cudnn框架中的随机数生成器设为确定性模式\n",
    "torch.backends.cudnn.benchmark = False#关闭CuDNN框架的自动寻找最优卷积算法的功能，以避免不同的算法对结果产生影响\n",
    "torch.manual_seed(42)\n",
    "np.random.seed(42)\n",
    "random.seed(42)"
   ]
  },
  {
   "cell_type": "code",
   "execution_count": 3,
   "id": "4b198af3",
   "metadata": {
    "execution": {
     "iopub.execute_input": "2023-08-09T07:42:24.483550Z",
     "iopub.status.busy": "2023-08-09T07:42:24.483059Z",
     "iopub.status.idle": "2023-08-09T07:42:24.533550Z",
     "shell.execute_reply": "2023-08-09T07:42:24.532268Z"
    },
    "papermill": {
     "duration": 0.060902,
     "end_time": "2023-08-09T07:42:24.535771",
     "exception": false,
     "start_time": "2023-08-09T07:42:24.474869",
     "status": "completed"
    },
    "tags": []
   },
   "outputs": [
    {
     "name": "stdout",
     "output_type": "stream",
     "text": [
      "len(train_df):1462\n"
     ]
    },
    {
     "data": {
      "text/html": [
       "<div>\n",
       "<style scoped>\n",
       "    .dataframe tbody tr th:only-of-type {\n",
       "        vertical-align: middle;\n",
       "    }\n",
       "\n",
       "    .dataframe tbody tr th {\n",
       "        vertical-align: top;\n",
       "    }\n",
       "\n",
       "    .dataframe thead th {\n",
       "        text-align: right;\n",
       "    }\n",
       "</style>\n",
       "<table border=\"1\" class=\"dataframe\">\n",
       "  <thead>\n",
       "    <tr style=\"text-align: right;\">\n",
       "      <th></th>\n",
       "      <th>date</th>\n",
       "      <th>meantemp</th>\n",
       "      <th>humidity</th>\n",
       "      <th>wind_speed</th>\n",
       "      <th>meanpressure</th>\n",
       "    </tr>\n",
       "  </thead>\n",
       "  <tbody>\n",
       "    <tr>\n",
       "      <th>0</th>\n",
       "      <td>2013-01-01</td>\n",
       "      <td>10.000000</td>\n",
       "      <td>84.500000</td>\n",
       "      <td>0.000000</td>\n",
       "      <td>1015.666667</td>\n",
       "    </tr>\n",
       "    <tr>\n",
       "      <th>1</th>\n",
       "      <td>2013-01-02</td>\n",
       "      <td>7.400000</td>\n",
       "      <td>92.000000</td>\n",
       "      <td>2.980000</td>\n",
       "      <td>1017.800000</td>\n",
       "    </tr>\n",
       "    <tr>\n",
       "      <th>2</th>\n",
       "      <td>2013-01-03</td>\n",
       "      <td>7.166667</td>\n",
       "      <td>87.000000</td>\n",
       "      <td>4.633333</td>\n",
       "      <td>1018.666667</td>\n",
       "    </tr>\n",
       "    <tr>\n",
       "      <th>3</th>\n",
       "      <td>2013-01-04</td>\n",
       "      <td>8.666667</td>\n",
       "      <td>71.333333</td>\n",
       "      <td>1.233333</td>\n",
       "      <td>1017.166667</td>\n",
       "    </tr>\n",
       "    <tr>\n",
       "      <th>4</th>\n",
       "      <td>2013-01-05</td>\n",
       "      <td>6.000000</td>\n",
       "      <td>86.833333</td>\n",
       "      <td>3.700000</td>\n",
       "      <td>1016.500000</td>\n",
       "    </tr>\n",
       "  </tbody>\n",
       "</table>\n",
       "</div>"
      ],
      "text/plain": [
       "         date   meantemp   humidity  wind_speed  meanpressure\n",
       "0  2013-01-01  10.000000  84.500000    0.000000   1015.666667\n",
       "1  2013-01-02   7.400000  92.000000    2.980000   1017.800000\n",
       "2  2013-01-03   7.166667  87.000000    4.633333   1018.666667\n",
       "3  2013-01-04   8.666667  71.333333    1.233333   1017.166667\n",
       "4  2013-01-05   6.000000  86.833333    3.700000   1016.500000"
      ]
     },
     "execution_count": 3,
     "metadata": {},
     "output_type": "execute_result"
    }
   ],
   "source": [
    "train_df=pd.read_csv(\"/kaggle/input/daily-climate-time-series-data/DailyDelhiClimateTrain.csv\")\n",
    "print(f\"len(train_df):{len(train_df)}\")\n",
    "train_df.head()"
   ]
  },
  {
   "cell_type": "code",
   "execution_count": 4,
   "id": "5bf0b551",
   "metadata": {
    "execution": {
     "iopub.execute_input": "2023-08-09T07:42:24.552105Z",
     "iopub.status.busy": "2023-08-09T07:42:24.551595Z",
     "iopub.status.idle": "2023-08-09T07:42:24.558131Z",
     "shell.execute_reply": "2023-08-09T07:42:24.556964Z"
    },
    "papermill": {
     "duration": 0.017951,
     "end_time": "2023-08-09T07:42:24.560777",
     "exception": false,
     "start_time": "2023-08-09T07:42:24.542826",
     "status": "completed"
    },
    "tags": []
   },
   "outputs": [
    {
     "name": "stdout",
     "output_type": "stream",
     "text": [
      "len(meantemp):1462\n"
     ]
    }
   ],
   "source": [
    "meantemp=train_df['meantemp'].values\n",
    "print(f\"len(meantemp):{len(meantemp)}\")"
   ]
  },
  {
   "cell_type": "code",
   "execution_count": 5,
   "id": "452b3c52",
   "metadata": {
    "execution": {
     "iopub.execute_input": "2023-08-09T07:42:24.577620Z",
     "iopub.status.busy": "2023-08-09T07:42:24.576632Z",
     "iopub.status.idle": "2023-08-09T07:42:24.933647Z",
     "shell.execute_reply": "2023-08-09T07:42:24.932288Z"
    },
    "papermill": {
     "duration": 0.369019,
     "end_time": "2023-08-09T07:42:24.936797",
     "exception": false,
     "start_time": "2023-08-09T07:42:24.567778",
     "status": "completed"
    },
    "tags": []
   },
   "outputs": [
    {
     "data": {
      "text/plain": [
       "[<matplotlib.lines.Line2D at 0x7bfc8bed98d0>]"
      ]
     },
     "execution_count": 5,
     "metadata": {},
     "output_type": "execute_result"
    },
    {
     "data": {
      "image/png": "[encoded data removed]",
      "text/plain": [
       "<Figure size 640x480 with 1 Axes>"
      ]
     },
     "metadata": {},
     "output_type": "display_data"
    }
   ],
   "source": [
    "plt.plot([i for i in range(len(meantemp))],meantemp)"
   ]
  },
  {
   "cell_type": "code",
   "execution_count": 6,
   "id": "5b18af72",
   "metadata": {
    "execution": {
     "iopub.execute_input": "2023-08-09T07:42:24.955778Z",
     "iopub.status.busy": "2023-08-09T07:42:24.954771Z",
     "iopub.status.idle": "2023-08-09T07:42:26.012976Z",
     "shell.execute_reply": "2023-08-09T07:42:26.011364Z"
    },
    "papermill": {
     "duration": 1.071388,
     "end_time": "2023-08-09T07:42:26.016496",
     "exception": false,
     "start_time": "2023-08-09T07:42:24.945108",
     "status": "completed"
    },
    "tags": []
   },
   "outputs": [],
   "source": [
    "from sklearn.preprocessing import MinMaxScaler\n",
    "# 创建MinMaxScaler对象\n",
    "scaler = MinMaxScaler()\n",
    "# 将数据进行归一化\n",
    "meantemp = scaler.fit_transform(meantemp.reshape(-1,1))"
   ]
  },
  {
   "cell_type": "code",
   "execution_count": 7,
   "id": "d62937d3",
   "metadata": {
    "execution": {
     "iopub.execute_input": "2023-08-09T07:42:26.038824Z",
     "iopub.status.busy": "2023-08-09T07:42:26.038226Z",
     "iopub.status.idle": "2023-08-09T07:42:26.049133Z",
     "shell.execute_reply": "2023-08-09T07:42:26.046546Z"
    },
    "papermill": {
     "duration": 0.02846,
     "end_time": "2023-08-09T07:42:26.055456",
     "exception": false,
     "start_time": "2023-08-09T07:42:26.026996",
     "status": "completed"
    },
    "tags": []
   },
   "outputs": [],
   "source": [
    "def split_data(data,time_step=12):\n",
    "    dataX=[]\n",
    "    datay=[]\n",
    "    for i in range(len(data)-time_step):\n",
    "        dataX.append(data[i:i+time_step])\n",
    "        datay.append(data[i+time_step])\n",
    "    dataX=np.array(dataX).reshape(len(dataX),time_step,-1)\n",
    "    datay=np.array(datay)\n",
    "    return dataX,datay"
   ]
  },
  {
   "cell_type": "code",
   "execution_count": 8,
   "id": "7c17940c",
   "metadata": {
    "execution": {
     "iopub.execute_input": "2023-08-09T07:42:26.076092Z",
     "iopub.status.busy": "2023-08-09T07:42:26.075591Z",
     "iopub.status.idle": "2023-08-09T07:42:26.089865Z",
     "shell.execute_reply": "2023-08-09T07:42:26.088321Z"
    },
    "papermill": {
     "duration": 0.028565,
     "end_time": "2023-08-09T07:42:26.093317",
     "exception": false,
     "start_time": "2023-08-09T07:42:26.064752",
     "status": "completed"
    },
    "tags": []
   },
   "outputs": [
    {
     "name": "stdout",
     "output_type": "stream",
     "text": [
      "dataX.shape:(1450, 12, 1),datay.shape:(1450, 1)\n"
     ]
    }
   ],
   "source": [
    "dataX,datay=split_data(meantemp,time_step=12)\n",
    "print(f\"dataX.shape:{dataX.shape},datay.shape:{datay.shape}\")"
   ]
  },
  {
   "cell_type": "code",
   "execution_count": 9,
   "id": "fc2c3a22",
   "metadata": {
    "execution": {
     "iopub.execute_input": "2023-08-09T07:42:26.113095Z",
     "iopub.status.busy": "2023-08-09T07:42:26.111751Z",
     "iopub.status.idle": "2023-08-09T07:42:26.120702Z",
     "shell.execute_reply": "2023-08-09T07:42:26.119856Z"
    },
    "papermill": {
     "duration": 0.020907,
     "end_time": "2023-08-09T07:42:26.122947",
     "exception": false,
     "start_time": "2023-08-09T07:42:26.102040",
     "status": "completed"
    },
    "tags": []
   },
   "outputs": [],
   "source": [
    "#划分训练集和测试集的函数\n",
    "def train_test_split(dataX,datay,shuffle=True,percentage=0.8):\n",
    "    \"\"\"\n",
    "    将训练数据X和标签y以numpy.array数组的形式传入\n",
    "    划分的比例定为训练集:测试集=8:2\n",
    "    \"\"\"\n",
    "    if shuffle:\n",
    "        random_num=[index for index in range(len(dataX))]\n",
    "        np.random.shuffle(random_num)\n",
    "        dataX=dataX[random_num]\n",
    "        datay=datay[random_num]\n",
    "    split_num=int(len(dataX)*percentage)\n",
    "    train_X=dataX[:split_num]\n",
    "    train_y=datay[:split_num]\n",
    "    test_X=dataX[split_num:]\n",
    "    test_y=datay[split_num:]\n",
    "    return train_X,train_y,test_X,test_y"
   ]
  },
  {
   "cell_type": "code",
   "execution_count": 10,
   "id": "f05d4617",
   "metadata": {
    "execution": {
     "iopub.execute_input": "2023-08-09T07:42:26.142882Z",
     "iopub.status.busy": "2023-08-09T07:42:26.142438Z",
     "iopub.status.idle": "2023-08-09T07:42:26.148593Z",
     "shell.execute_reply": "2023-08-09T07:42:26.147495Z"
    },
    "papermill": {
     "duration": 0.018357,
     "end_time": "2023-08-09T07:42:26.151062",
     "exception": false,
     "start_time": "2023-08-09T07:42:26.132705",
     "status": "completed"
    },
    "tags": []
   },
   "outputs": [
    {
     "name": "stdout",
     "output_type": "stream",
     "text": [
      "train_X.shape:(1160, 12, 1),test_X.shape:(290, 12, 1)\n"
     ]
    }
   ],
   "source": [
    "train_X,train_y,test_X,test_y=train_test_split(dataX,datay,shuffle=False,percentage=0.8)\n",
    "print(f\"train_X.shape:{train_X.shape},test_X.shape:{test_X.shape}\")"
   ]
  },
  {
   "cell_type": "code",
   "execution_count": 11,
   "id": "4a8b2156",
   "metadata": {
    "execution": {
     "iopub.execute_input": "2023-08-09T07:42:26.168844Z",
     "iopub.status.busy": "2023-08-09T07:42:26.168374Z",
     "iopub.status.idle": "2023-08-09T07:42:26.173858Z",
     "shell.execute_reply": "2023-08-09T07:42:26.172865Z"
    },
    "papermill": {
     "duration": 0.017024,
     "end_time": "2023-08-09T07:42:26.176094",
     "exception": false,
     "start_time": "2023-08-09T07:42:26.159070",
     "status": "completed"
    },
    "tags": []
   },
   "outputs": [],
   "source": [
    "X_train,y_train=train_X,train_y"
   ]
  },
  {
   "cell_type": "code",
   "execution_count": 12,
   "id": "8c462cd4",
   "metadata": {
    "execution": {
     "iopub.execute_input": "2023-08-09T07:42:26.195124Z",
     "iopub.status.busy": "2023-08-09T07:42:26.194614Z",
     "iopub.status.idle": "2023-08-09T07:42:26.205159Z",
     "shell.execute_reply": "2023-08-09T07:42:26.204026Z"
    },
    "papermill": {
     "duration": 0.023019,
     "end_time": "2023-08-09T07:42:26.207398",
     "exception": false,
     "start_time": "2023-08-09T07:42:26.184379",
     "status": "completed"
    },
    "tags": []
   },
   "outputs": [],
   "source": [
    "# 定义CNN+LSTM模型类\n",
    "class CNN_LSTM(nn.Module):\n",
    "    def __init__(self, conv_input,input_size, hidden_size, num_layers, output_size):\n",
    "        super(CNN_LSTM,self).__init__()\n",
    "        self.hidden_size = hidden_size\n",
    "        self.num_layers = num_layers\n",
    "        self.conv=nn.Conv1d(conv_input,conv_input,1)\n",
    "        self.lstm = nn.LSTM(input_size, hidden_size, num_layers, batch_first=True)\n",
    "        self.fc = nn.Linear(hidden_size, output_size)\n",
    "    \n",
    "    def forward(self, x):\n",
    "        x=self.conv(x)\n",
    "        h0 = torch.zeros(self.num_layers,x.size(0), self.hidden_size) # 初始化隐藏状态h0\n",
    "        c0 = torch.zeros(self.num_layers,x.size(0), self.hidden_size)  # 初始化记忆状态c0\n",
    "        #print(f\"x.shape:{x.shape},h0.shape:{h0.shape},c0.shape:{c0.shape}\")\n",
    "        out, _ = self.lstm(x, (h0, c0))  # LSTM前向传播\n",
    "        out = self.fc(out[:, -1, :])  # 取最后一个时间步的输出作为预测结果\n",
    "        return out"
   ]
  },
  {
   "cell_type": "code",
   "execution_count": 13,
   "id": "79ca1763",
   "metadata": {
    "execution": {
     "iopub.execute_input": "2023-08-09T07:42:26.225823Z",
     "iopub.status.busy": "2023-08-09T07:42:26.225335Z",
     "iopub.status.idle": "2023-08-09T07:42:37.910772Z",
     "shell.execute_reply": "2023-08-09T07:42:37.909499Z"
    },
    "papermill": {
     "duration": 11.698212,
     "end_time": "2023-08-09T07:42:37.913696",
     "exception": false,
     "start_time": "2023-08-09T07:42:26.215484",
     "status": "completed"
    },
    "tags": []
   },
   "outputs": [
    {
     "name": "stdout",
     "output_type": "stream",
     "text": [
      "start\n",
      "epoch:0,train_loss:0.3825515806674957,test_loss:0.5205779671669006\n",
      "epoch:50,train_loss:0.15361317992210388,test_loss:0.21401630342006683\n",
      "epoch:100,train_loss:0.050702545791864395,test_loss:0.048538438975811005\n",
      "epoch:150,train_loss:0.05920787900686264,test_loss:0.04588276147842407\n",
      "epoch:200,train_loss:0.048005297780036926,test_loss:0.04092800244688988\n",
      "epoch:250,train_loss:0.04774784669280052,test_loss:0.03745448961853981\n",
      "epoch:300,train_loss:0.02255823090672493,test_loss:0.0184289813041687\n",
      "epoch:350,train_loss:0.006773089524358511,test_loss:0.005251635797321796\n",
      "epoch:400,train_loss:0.005747808143496513,test_loss:0.004969146102666855\n",
      "epoch:450,train_loss:0.006684307008981705,test_loss:0.00466759130358696\n",
      "CPU times: user 22.7 s, sys: 268 ms, total: 22.9 s\n",
      "Wall time: 11.7 s\n"
     ]
    }
   ],
   "source": [
    "%%time \n",
    "\n",
    "test_X1=torch.Tensor(test_X)\n",
    "test_y1=torch.Tensor(test_y)\n",
    "\n",
    "# 定义输入、隐藏状态和输出维度\n",
    "input_size = 1  # 输入特征维度\n",
    "conv_input=12\n",
    "hidden_size = 64  # LSTM隐藏状态维度\n",
    "num_layers = 5  # LSTM层数\n",
    "output_size = 1  # 输出维度（预测目标维度）\n",
    "\n",
    "# 创建CNN_LSTM模型实例\n",
    "model =CNN_LSTM(conv_input,input_size, hidden_size, num_layers, output_size)\n",
    "\n",
    "#训练周期为500次\n",
    "num_epochs=500\n",
    "batch_size=64#一次训练的数量\n",
    "#优化器\n",
    "optimizer=optim.Adam(model.parameters(),lr=0.0001,betas=(0.5,0.999))\n",
    "#损失函数\n",
    "criterion=nn.MSELoss()\n",
    "\n",
    "train_losses=[]\n",
    "test_losses=[]\n",
    "\n",
    "print(f\"start\")\n",
    "\n",
    "for epoch in range(num_epochs):\n",
    "    \n",
    "    random_num=[i for i in range(len(train_X))]\n",
    "    np.random.shuffle(random_num)\n",
    "    \n",
    "    train_X=train_X[random_num]\n",
    "    train_y=train_y[random_num]\n",
    "    \n",
    "    train_X1=torch.Tensor(train_X[:batch_size])\n",
    "    train_y1=torch.Tensor(train_y[:batch_size])\n",
    "    \n",
    "    #训练\n",
    "    model.train()\n",
    "    #将梯度清空\n",
    "    optimizer.zero_grad()\n",
    "    #将数据放进去训练\n",
    "    output=model(train_X1)\n",
    "    #计算每次的损失函数\n",
    "    train_loss=criterion(output,train_y1)\n",
    "    #反向传播\n",
    "    train_loss.backward()\n",
    "    #优化器进行优化(梯度下降,降低误差)\n",
    "    optimizer.step()\n",
    "    \n",
    "    if epoch%50==0:\n",
    "        model.eval()\n",
    "        with torch.no_grad():\n",
    "            output=model(test_X1)\n",
    "            test_loss=criterion(output,test_y1)\n",
    "        train_losses.append(train_loss)\n",
    "        test_losses.append(test_loss)\n",
    "        print(f\"epoch:{epoch},train_loss:{train_loss},test_loss:{test_loss}\")"
   ]
  },
  {
   "cell_type": "code",
   "execution_count": 14,
   "id": "7fc4cbaf",
   "metadata": {
    "execution": {
     "iopub.execute_input": "2023-08-09T07:42:37.934750Z",
     "iopub.status.busy": "2023-08-09T07:42:37.934303Z",
     "iopub.status.idle": "2023-08-09T07:42:37.939659Z",
     "shell.execute_reply": "2023-08-09T07:42:37.938528Z"
    },
    "papermill": {
     "duration": 0.018776,
     "end_time": "2023-08-09T07:42:37.941898",
     "exception": false,
     "start_time": "2023-08-09T07:42:37.923122",
     "status": "completed"
    },
    "tags": []
   },
   "outputs": [],
   "source": [
    "def mse(pred_y,true_y):\n",
    "    return np.mean((pred_y-true_y) ** 2)"
   ]
  },
  {
   "cell_type": "code",
   "execution_count": 15,
   "id": "0e03bc4a",
   "metadata": {
    "execution": {
     "iopub.execute_input": "2023-08-09T07:42:37.962748Z",
     "iopub.status.busy": "2023-08-09T07:42:37.962306Z",
     "iopub.status.idle": "2023-08-09T07:42:38.202406Z",
     "shell.execute_reply": "2023-08-09T07:42:38.201255Z"
    },
    "papermill": {
     "duration": 0.253725,
     "end_time": "2023-08-09T07:42:38.205101",
     "exception": false,
     "start_time": "2023-08-09T07:42:37.951376",
     "status": "completed"
    },
    "tags": []
   },
   "outputs": [
    {
     "name": "stdout",
     "output_type": "stream",
     "text": [
      "mse(pred_y,true_y):5.53722039981887\n"
     ]
    }
   ],
   "source": [
    "train_X1=torch.Tensor(X_train)\n",
    "train_pred=model(train_X1).detach().numpy()\n",
    "test_pred=model(test_X1).detach().numpy()\n",
    "pred_y=np.concatenate((train_pred,test_pred))\n",
    "pred_y=scaler.inverse_transform(pred_y).T[0]\n",
    "true_y=np.concatenate((y_train,test_y))\n",
    "true_y=scaler.inverse_transform(true_y).T[0]\n",
    "print(f\"mse(pred_y,true_y):{mse(pred_y,true_y)}\")"
   ]
  },
  {
   "cell_type": "code",
   "execution_count": 16,
   "id": "7eb64a30",
   "metadata": {
    "execution": {
     "iopub.execute_input": "2023-08-09T07:42:38.226200Z",
     "iopub.status.busy": "2023-08-09T07:42:38.225708Z",
     "iopub.status.idle": "2023-08-09T07:42:38.601425Z",
     "shell.execute_reply": "2023-08-09T07:42:38.600210Z"
    },
    "papermill": {
     "duration": 0.389757,
     "end_time": "2023-08-09T07:42:38.604418",
     "exception": false,
     "start_time": "2023-08-09T07:42:38.214661",
     "status": "completed"
    },
    "tags": []
   },
   "outputs": [
    {
     "data": {
      "image/png": "[encoded data removed]",
      "text/plain": [
       "<Figure size 640x480 with 1 Axes>"
      ]
     },
     "metadata": {},
     "output_type": "display_data"
    }
   ],
   "source": [
    "plt.title(\"CNN_LSTM\")\n",
    "x=[i for i in range(len(true_y))]\n",
    "plt.plot(x,pred_y,marker=\"o\",markersize=1,label=\"pred_y\")\n",
    "plt.plot(x,true_y,marker=\"x\",markersize=1,label=\"true_y\")\n",
    "plt.legend()\n",
    "plt.show()"
   ]
  }
 ],
 "metadata": {
  "kernelspec": {
   "display_name": "Python 3",
   "language": "python",
   "name": "python3"
  },
  "language_info": {
   "codemirror_mode": {
    "name": "ipython",
    "version": 3
   },
   "file_extension": ".py",
   "mimetype": "text/x-python",
   "name": "python",
   "nbconvert_exporter": "python",
   "pygments_lexer": "ipython3",
   "version": "3.10.12"
  },
  "papermill": {
   "default_parameters": {},
   "duration": 33.98427,
   "end_time": "2023-08-09T07:42:41.396427",
   "environment_variables": {},
   "exception": null,
   "input_path": "__notebook__.ipynb",
   "output_path": "__notebook__.ipynb",
   "parameters": {},
   "start_time": "2023-08-09T07:42:07.412157",
   "version": "2.4.0"
  }
 },
 "nbformat": 4,
 "nbformat_minor": 5
}
